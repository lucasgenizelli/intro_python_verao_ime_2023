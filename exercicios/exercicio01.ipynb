{
 "cells": [
  {
   "cell_type": "markdown",
   "metadata": {
    "collapsed": true,
    "pycharm": {
     "name": "#%% md\n"
    }
   },
   "source": [
    "## Exercícios - Aula 01"
   ]
  },
  {
   "cell_type": "markdown",
   "metadata": {
    "collapsed": false,
    "pycharm": {
     "name": "#%% md\n"
    }
   },
   "source": [
    "1) Escolha um número entre 1 e 10 e armazene ele numa variável chamada *segredo*. Escolha outro número entre 1 e 10 novamente e salve ele numa variável chamada *chute*. Depois, escreva testes condicionais usando *if*, *else* e *elif* para exibir a mensagem \"muito menor\" se *chute* é menor do que *segredo*, \"muito maior\" se *chute* é maior do que *segredo* e \"na mosca\" se *chute* for igual à *segredo*.\n",
    "\n",
    "2) Escreva uma cadeia de instrucões *if*-*elif*-*else* que determine o estágio da vida de uma pessoa. Defina um valor para a variável *idade* e então:\n",
    "- Se a pessoa tiver menos de 2 anos de idade, mostre uma mensagem dizendo que ela ainda é um bebê.\n",
    "- Se a pessoa tiver pelo menos 2 anos, mas menos de 4, mostre uma mensagem dizendo que ela é uma crianca.\n",
    "- Se a pessoa tiver pelo menos 4 anos, mas menos de 13, mostre uma mensagem dizendo que ela é um(a) goroto(a).\n",
    "- Se a pessoa tiver pelo menos 13 anos, mas menos de 20, mostre uma mensagem dizendo que ela é um(a) adolescente.\n",
    "- Se a pessoa tiver pelo menos 20 anos, mas menos de 65, mostre uma mensagem dizendo que ela é um(a) adulto(a).\n",
    "- Se a pessoa tiver 65 anos ou mais, mostre uma mensagem dizendo que ela é uma pessoa idosa.\n",
    "\n",
    "3) Crie uma lista com cinco ou mais nomes de usuários, incluindo o nome \"admin\". Suponha que você esteja escrevendo um código que exibirá uma saudacão a cada usuário depois que eles fizerem login em um site. Percorra a lista com um laco e mostre uma saudacão para cada usuário:\n",
    "- Se o nome do usuário for \"admin\", mostre uma saudacão especial, por exemplo, \"Olá admin, gostaria de ver o relatório de status?\"\n",
    "- Caso contrário, mostre a saudacão genérica, como \"Olá José, obrigado por fazer login novamente\".\n",
    "\n",
    "4) A partir do exercício anterior, modifique o código criado para acrescentar um teste if que verifica se a lista de usuarios está vazia.\n",
    "- Se a lista de usuários estiver vazia, mostre a mensagem \"Precisamos encontrar alguns usuários!\". Remova todos os nomes de usuários da lista e certifique-se de que essa mensagem aparecerá.\n",
    "\n",
    "5) Crie um programa que simule o modo como os sites garantem que todos tenham um nome de usuário único.\n",
    "- Crie uma lista chamada *current_users* com cinco ou mais nomes de usuários\n",
    "- Crie uma list chamada *new_users* com cinco nomes de usuários. Garanta que dois dos novos usuários também estejam na lista *current_users*\n",
    "- Percorra a lista *new_users* com um laco para ver se cada novo nome de usuário já foi usado. Em caso afirmativo, mostre uma mensagem afirmando que a pessoa deverá fornecer um novo nome. Se um usuário não foi usado, apresente uma mensagem dizendo que o nome do usuário está disponível.\n",
    "- Certifique-se de que sua comparacão não levará em conta as diferencas entre letras maiúsculas e minúsculas. Se \"Pedro\" foi usado, \"PEDRO\" não deverá ser aceito.\n",
    "\n",
    "6) Números ordinais indicam sua posicão em uma lista, por exemplo, 1st, 2nd, em inglês. A maioria dos números ordinais nessa língua termina com th, exceto, 1, 2 e 3.\n",
    "- Armazene os números de 1 a 9 em uma lista.\n",
    "- Pecorra essa lista com um laco.\n",
    "- Use uma cadeia de instrucões *if*-*elif*-*else* que exiba a terminacão apropriada para cada número ordinal. Sua saída deverá conter \"1st 2nd 3rd 4th 5th 6th 7th 8th 9th\" e cada resultado deve estar em uma linha separada\n"
   ]
  },
  {
   "cell_type": "code",
   "execution_count": 39,
   "metadata": {},
   "outputs": [],
   "source": [
    "# questão 1\n",
    "segredo = 15\n",
    "chute = 15"
   ]
  },
  {
   "cell_type": "code",
   "execution_count": 40,
   "metadata": {},
   "outputs": [
    {
     "name": "stdout",
     "output_type": "stream",
     "text": [
      "na mosca\n"
     ]
    }
   ],
   "source": [
    "if chute == segredo:\n",
    "    print(\"na mosca\")\n",
    "elif chute > segredo:\n",
    "    print(\"muito maior\")\n",
    "else:\n",
    "    print(\"muito menor\")"
   ]
  },
  {
   "cell_type": "code",
   "execution_count": 41,
   "metadata": {},
   "outputs": [
    {
     "name": "stdout",
     "output_type": "stream",
     "text": [
      "Você é um(a) idoso(a)\n"
     ]
    }
   ],
   "source": [
    "# questão 2\n",
    "idade = 69\n",
    "if idade <2:\n",
    "    print(\"Você ainda é um bebê\")\n",
    "elif idade >=2 and idade <4:\n",
    "    print(\"Você ainda é uma criança\")\n",
    "elif idade >=4 and idade <13:\n",
    "    print(\"Você ainda é um(a) garoto(a)\")\n",
    "elif idade >=13 and idade <20:\n",
    "    print(\"Você ainda é um(a) adolescente\")\n",
    "elif idade >=20 and idade <65:\n",
    "    print(\"Você é um adulto\")\n",
    "else:\n",
    "    print(\"Você é um(a) idoso(a)\")"
   ]
  },
  {
   "cell_type": "code",
   "execution_count": 42,
   "metadata": {},
   "outputs": [
    {
     "data": {
      "text/plain": [
       "list"
      ]
     },
     "execution_count": 42,
     "metadata": {},
     "output_type": "execute_result"
    }
   ],
   "source": [
    "# questão 3\n",
    "nomes_usuários = [\"Lulinha ladrão roubou meu coração\", \"Xandão\", \"Robsvaldo\", \"Katucha\", \"Natasha\", \"admin\"]\n",
    "type(nomes_usuários) #apenas para testar o tipo da variável"
   ]
  },
  {
   "cell_type": "code",
   "execution_count": 43,
   "metadata": {},
   "outputs": [
    {
     "name": "stdout",
     "output_type": "stream",
     "text": [
      "Lulinha ladrão roubou meu coração\n",
      "Xandão\n",
      "Robsvaldo\n",
      "Katucha\n",
      "Natasha\n",
      "admin\n"
     ]
    }
   ],
   "source": [
    "for users in nomes_usuários:\n",
    "    print(users)"
   ]
  },
  {
   "cell_type": "code",
   "execution_count": 44,
   "metadata": {},
   "outputs": [
    {
     "name": "stdout",
     "output_type": "stream",
     "text": [
      "Bem vindo Lulinha ladrão roubou meu coração Obrigada por fazer login novamente\n",
      "Bem vindo Xandão Obrigada por fazer login novamente\n",
      "Bem vindo Robsvaldo Obrigada por fazer login novamente\n",
      "Bem vindo Katucha Obrigada por fazer login novamente\n",
      "Bem vindo Natasha Obrigada por fazer login novamente\n",
      "Olá admin gostaria de ver o relatório de status?\n"
     ]
    }
   ],
   "source": [
    "for users in nomes_usuários:\n",
    "    if users == \"admin\":\n",
    "        print(\"Olá\",users,\"gostaria de ver o relatório de status?\")\n",
    "    if users != \"admin\":\n",
    "        print(\"Bem vindo\",users,\"Obrigada por fazer login novamente\")"
   ]
  },
  {
   "cell_type": "code",
   "execution_count": 45,
   "metadata": {},
   "outputs": [],
   "source": [
    "nomes_usuários.clear()"
   ]
  },
  {
   "cell_type": "code",
   "execution_count": 46,
   "metadata": {},
   "outputs": [
    {
     "data": {
      "text/plain": [
       "0"
      ]
     },
     "execution_count": 46,
     "metadata": {},
     "output_type": "execute_result"
    }
   ],
   "source": [
    "len(nomes_usuários)"
   ]
  },
  {
   "cell_type": "code",
   "execution_count": 47,
   "metadata": {},
   "outputs": [
    {
     "name": "stdout",
     "output_type": "stream",
     "text": [
      "Precisamos encontrar alguns usuários!\n"
     ]
    }
   ],
   "source": [
    "# questão 4\n",
    "if not nomes_usuários:\n",
    "        print(\"Precisamos encontrar alguns usuários!\")\n",
    "for users in nomes_usuários:\n",
    "    if users == \"admin\":\n",
    "        print(\"Olá\",users,\"gostaria de ver o relatório de status?\")\n",
    "    if users != \"admin\":\n",
    "        print(\"Bem vindo\",users,\"Obrigada por fazer login novamente\")"
   ]
  },
  {
   "cell_type": "code",
   "execution_count": 48,
   "metadata": {},
   "outputs": [],
   "source": [
    "# questão 5\n",
    "current_users = [\"Pheebe\", \"Rachel\", \"Mônica\", \"Joey\", \"Chandler\"]\n",
    "new_users = [\"Mônica\", \"Chandler\", \"Ross\", \"Regina Phalange\", \"Marcel\"]"
   ]
  },
  {
   "cell_type": "code",
   "execution_count": 49,
   "metadata": {},
   "outputs": [
    {
     "name": "stdout",
     "output_type": "stream",
     "text": [
      "Mônica Você deve tentar outro nome\n",
      "Mônica O nome de usuário está disponível\n",
      "Chandler Você deve tentar outro nome\n",
      "Chandler O nome de usuário está disponível\n",
      "Ross O nome de usuário está disponível\n",
      "Regina Phalange O nome de usuário está disponível\n",
      "Marcel O nome de usuário está disponível\n"
     ]
    }
   ],
   "source": [
    "for novatos in new_users:\n",
    "    for cadastrados in current_users:\n",
    "        if novatos == cadastrados:\n",
    "            print(novatos, \"Você deve tentar outro nome\")\n",
    "    else:\n",
    "        print(novatos, \"O nome de usuário está disponível\") "
   ]
  },
  {
   "cell_type": "code",
   "execution_count": 2,
   "metadata": {},
   "outputs": [
    {
     "name": "stdout",
     "output_type": "stream",
     "text": [
      "1\n",
      "2\n",
      "3\n",
      "4\n",
      "5\n",
      "6\n",
      "7\n",
      "8\n",
      "9\n"
     ]
    }
   ],
   "source": [
    "# questão 6\n",
    "lista = [1, 2, 3, 4, 5, 6, 7, 8, 9]\n",
    "for n in lista:\n",
    "    print(n)"
   ]
  },
  {
   "cell_type": "code",
   "execution_count": 4,
   "metadata": {},
   "outputs": [
    {
     "name": "stdout",
     "output_type": "stream",
     "text": [
      "1 st\n",
      "2 nd\n",
      "3 rd\n",
      "4 th\n",
      "5 th\n",
      "6 th\n",
      "7 th\n",
      "8 th\n",
      "9 th\n"
     ]
    }
   ],
   "source": [
    "for n in lista:\n",
    "    if n == 1:\n",
    "        print(n,\"st\")\n",
    "    elif n == 2:\n",
    "        print(n,\"nd\")\n",
    "    elif n == 3:\n",
    "        print(n,\"rd\")\n",
    "    elif n>3 and n<10:\n",
    "        print(n,\"th\")"
   ]
  }
 ],
 "metadata": {
  "kernelspec": {
   "display_name": "Python 3",
   "language": "python",
   "name": "python3"
  },
  "language_info": {
   "codemirror_mode": {
    "name": "ipython",
    "version": 3
   },
   "file_extension": ".py",
   "mimetype": "text/x-python",
   "name": "python",
   "nbconvert_exporter": "python",
   "pygments_lexer": "ipython3",
   "version": "3.10.4"
  },
  "vscode": {
   "interpreter": {
    "hash": "3ad933181bd8a04b432d3370b9dc3b0662ad032c4dfaa4e4f1596c548f763858"
   }
  }
 },
 "nbformat": 4,
 "nbformat_minor": 0
}
